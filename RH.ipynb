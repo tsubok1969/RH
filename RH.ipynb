{
 "cells": [
  {
   "cell_type": "markdown",
   "metadata": {},
   "source": [
    "# Rankine-Hugoniot solver\n",
    "\n",
    "流体の保存の式は\n",
    "$$\n",
    "\\frac{\\partial F}{\\partial t}+\\frac{\\partial G}{\\partial x}=0\n",
    "$$\n",
    "で表されるが、定常であることと不連続面の存在を考慮したとき\n",
    "\n",
    "$$\n",
    "[G]^2_1 = G_2 - G_1 = 0\\quad\\rightarrow\\quad G_2=G_1\n",
    "$$\n",
    "\n",
    "が成り立つ（但し添字の1, 2は不連続面の上流・下流側の量を示す）。ここで$G$は\n",
    "\n",
    "* mass flux\n",
    "* momentum flux\n",
    "* energy flux\n",
    "\n",
    "であり、これらが不連続面の両側で保存されることを意味している。電磁流体（MHD）において、これは\n",
    "\n",
    "$$\n",
    "[\\rho u]^2_1=0\n",
    "$$\n",
    "\n",
    "$$\n",
    "[\\rho u^2 + \\frac{\\gamma}{\\gamma-1}P+\\frac{1}{\\mu_0}B^2]^2_1=0\n",
    "$$\n",
    "\n",
    "また誘導方程式と磁力線凍結（$\\vec{E}+\\vec{u}\\times\\vec{B}=0$）より\n",
    "\n",
    "$$\n",
    "[u_y B_z - u_z B_y]^2_1 = 0\n",
    "$$\n",
    "\n",
    "も成り立つ。\n",
    "\n",
    "以上の関係式を用いると、衝撃波の上下流の流体速度をnormal Alfven velocityで規格化した\n",
    "\n",
    "$$\n",
    "A_{x,n} = \\frac{u_{x,n}}{\\frac{B_x}{\\sqrt{\\mu_0 \\rho_n}}},\n",
    "$$\n",
    "\n",
    "は以下の関係式を満たす。\n",
    "\n",
    "$$\n",
    "{A_{x,1}}^2={A_{x,2}}^2\\left( \\frac{\\gamma-1}{\\gamma}\\left( \\frac{\\gamma+1}{\\gamma-1}-\\tan^2\\theta\\right)\\left({A_{x,2}}^2-1\\right)^2 + \\tan^2\\theta\\left(\\frac{\\gamma-1}{\\gamma}{A_{x,2}}^2-1\\right)\\left({A_{x,2}}^2-2\\right) \\right)-\\frac{\\beta}{\\cos^2\\theta}\\left({A_{x,2}}^2-1\\right)^2\n",
    "$$\n",
    "\n",
    "$$\n",
    "\\frac{{A_{x,1}}^2}{{A_{x,2}}^2}=\\frac{\\rho_2}{\\rho_1}\n",
    "$$"
   ]
  },
  {
   "cell_type": "code",
   "execution_count": 1,
   "metadata": {},
   "outputs": [],
   "source": [
    "import sys\n",
    "import numpy as np\n",
    "\n",
    "class MHDphase:\n",
    "    def __init__(self, beta, theta, xacc=1.e-6):\n",
    "        # beta and theta : upstream quantities\n",
    "        # squared mf: fast MS, ms: slow MS, mi: another branch of Alfven velocity\n",
    "        # normalized by the upstream normal Alfven velocity \n",
    "        self.beta = beta\n",
    "        self.theta = theta\n",
    "        self.mf = self.rhsol(1.0+xacc, 1.e+10)\n",
    "        self.ms = self.rhsol(0.0, 1.0-xacc)\n",
    "        self.mi = self.rhsol(0.0, 1.0, alf_mode=True)\n",
    "        self.mcd, self.mcu = self.critical_Alfven()\n",
    "\n",
    "    def ax1(self, ax2, gamma=5./3.):\n",
    "        # determine the square of the upstream Alfven Mach number from that in the downstream\n",
    "        beta = self.beta\n",
    "        theta = self.theta\n",
    "        deg2rad = np.pi/180.\n",
    "        tanth2 = np.tan(theta*deg2rad)**2\n",
    "        costh2 = np.cos(theta*deg2rad)**2\n",
    "\n",
    "        x1 = ax2*( (gamma-1.)/gamma * ( (gamma+1.)/(gamma-1.) - tanth2 ) * \\\n",
    "                       (ax2-1.)**2 + tanth2*( (gamma-1.)/gamma*ax2 - 1. ) * \\\n",
    "                       ( ax2-2.) ) - beta/costh2*(ax2-1.)**2\n",
    "        x2 = (gamma-1.)/gamma * (ax2-1.)**2/costh2 - ax2*tanth2*( (gamma-1.)/gamma*ax2 - 1. )\n",
    "\n",
    "        return x1/x2\n",
    "\n",
    "    def rhsol(self, x1, x2, alf_mode=False, xacc=1.e-6, iteration=1000):\n",
    "        beta = self.beta\n",
    "        theta = self.theta\n",
    "        for j in range(iteration):\n",
    "            if(alf_mode):\n",
    "                x1ref = x2ref = 1.0\n",
    "            else:\n",
    "                x1ref = x1\n",
    "                x2ref = x2\n",
    "            f2 = self.ax1(x2) - x2ref\n",
    "            f1 = self.ax1(x1) - x1ref\n",
    "            if f1*f2 > 0:\n",
    "                print('root must be bracketed in bisection')\n",
    "                break\n",
    "            xmid = 0.5 * (x2 + x1)\n",
    "            if(alf_mode):\n",
    "                xref = 1.0\n",
    "            else:\n",
    "                xref = xmid\n",
    "            fmid = self.ax1(xmid) - xref\n",
    "            if f1*fmid > 0.0:\n",
    "                x1 = xmid\n",
    "            else:\n",
    "                x2 = xmid\n",
    "            if np.absolute(fmid) < xacc:\n",
    "                return xmid\n",
    "        print('lack of iteration')\n",
    "\n",
    "    def critical_Alfven(self, step = 1.e-5):\n",
    "        # determine the critical Alfven Mach number\n",
    "        # Ma_down > xmax: weak intermediate shock\n",
    "        # Ma_down < xmax: strong intermediate shock\n",
    "        # ymax: critical Alfven Mach number of upstream flow\n",
    "        ymax = -1.e+10\n",
    "        x = (self.ms)**2\n",
    "        while x < 1.0:\n",
    "            y = self.ax1(x)\n",
    "            if y > ymax:\n",
    "                xmax = x\n",
    "                ymax = y\n",
    "            x = x + step\n",
    "        return xmax, ymax\n",
    "\n",
    "    def solsearch(self, xdown, mode):\n",
    "        # mode 1: fast shock 2: slow shock 3: IS\n",
    "        ax2 = xdown**2\n",
    "        deg2rad = np.pi/180.\n",
    "        while(True):\n",
    "            if mode == 1:\n",
    "                if ax2 > self.mf:\n",
    "                    break\n",
    "            elif mode == 2:\n",
    "                if self.ms < ax2 < self.mi:\n",
    "                    break\n",
    "            else:\n",
    "                if self.mi < ax2 < 1.0:\n",
    "                    break\n",
    "            print('value is not suitable for RH')\n",
    "            sys.exit()\n",
    "\n",
    "        ax1 = self.ax1(ax2)\n",
    "        r = ax1/ax2\n",
    "        thetad = np.rad2deg( np.arctan( (ax1-1.)/(ax2-1.)*np.tan(self.theta*deg2rad) ) )\n",
    "        bd = np.cos(self.theta*deg2rad)/np.cos(thetad*deg2rad)\n",
    "        bt = bd * np.sin(thetad*deg2rad)\n",
    "        uin = (1.-1./r)*np.sqrt(ax1)*np.cos(self.theta*deg2rad)\n",
    "        vshock = np.sqrt(ax2/r)*np.cos(self.theta*deg2rad)\n",
    "        print('compressional ratio    : ' + str(r) )\n",
    "        print('downstream field angle : ' + str(thetad) )\n",
    "        print('downstream field mag.  : ' + str(bd) )\n",
    "        print('injection velocity     : ' + str(uin) )\n",
    "        print('shock velocity         : ' + str(vshock) )\n"
   ]
  },
  {
   "cell_type": "code",
   "execution_count": 2,
   "metadata": {},
   "outputs": [],
   "source": [
    "va = MHDphase(0.1, 60.)"
   ]
  },
  {
   "cell_type": "code",
   "execution_count": 3,
   "metadata": {},
   "outputs": [
    {
     "data": {
      "text/plain": [
       "Text(0,0.5,'${A_{x1}}^2$')"
      ]
     },
     "execution_count": 3,
     "metadata": {},
     "output_type": "execute_result"
    },
    {
     "data": {
      "image/png": "[encoded data removed]",
      "text/plain": [
       "<Figure size 432x288 with 1 Axes>"
      ]
     },
     "metadata": {},
     "output_type": "display_data"
    }
   ],
   "source": [
    "ax2 = np.arange(100)*0.2\n",
    "ax1 = va.ax1(ax2)\n",
    "%matplotlib inline\n",
    "\n",
    "plt.plot(ax2, ax1)\n",
    "plt.plot(ax2, ax2, linestyle='dashed')\n",
    "plt.plot([0,8],[1,1],linestyle='dotted')\n",
    "plt.xlim(0,8)\n",
    "plt.ylim(0,8)\n",
    "plt.xlabel('${A_{x2}}^2$')\n",
    "plt.ylabel('${A_{x1}}^2$')"
   ]
  },
  {
   "cell_type": "markdown",
   "metadata": {},
   "source": [
    "上の図は衝撃波上流で$\\beta=0.1, \\theta=60^\\circ$の場合の上下流のnormal Alfven Mach numberの関係を示している。$({A_{x2}}^2 = {A{x1}}^2)$との交点が小さい方からslow mode, intermediate mode, fast modeの解に該当する。"
   ]
  },
  {
   "cell_type": "code",
   "execution_count": 4,
   "metadata": {},
   "outputs": [
    {
     "name": "stdout",
     "output_type": "stream",
     "text": [
      "compressional ratio    : 3.594362107817648\n",
      "downstream field angle : 81.05609222063424\n",
      "downstream field mag.  : 3.2161073082607365\n",
      "injection velocity     : 4.10526251467629\n",
      "shock velocity         : 1.5823783820715747\n"
     ]
    }
   ],
   "source": [
    "va.solsearch(6.0, 1)"
   ]
  },
  {
   "cell_type": "code",
   "execution_count": null,
   "metadata": {},
   "outputs": [],
   "source": []
  }
 ],
 "metadata": {
  "kernelspec": {
   "display_name": "Python 3",
   "language": "python",
   "name": "python3"
  },
  "language_info": {
   "codemirror_mode": {
    "name": "ipython",
    "version": 3
   },
   "file_extension": ".py",
   "mimetype": "text/x-python",
   "name": "python",
   "nbconvert_exporter": "python",
   "pygments_lexer": "ipython3",
   "version": "3.6.5"
  }
 },
 "nbformat": 4,
 "nbformat_minor": 2
}
