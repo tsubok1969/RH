{
 "cells": [
  {
   "cell_type": "markdown",
   "metadata": {},
   "source": [
    "# Rankine-Hugoniot solver\n",
    "\n",
    "流体の保存の式は\n",
    "$$\n",
    "\\frac{\\partial F}{\\partial t}+\\frac{\\partial G}{\\partial x}=0\n",
    "$$\n",
    "で表されるが、定常性の仮定の下で不連続面の存在を考慮したとき\n",
    "\n",
    "$$\n",
    "[G]^2_1 = G_2 - G_1 = 0\\quad\\rightarrow\\quad G_2=G_1\n",
    "$$\n",
    "\n",
    "が成り立つ（但し添字の1, 2は不連続面の上流・下流側の量を示す）。ここで$G$は\n",
    "\n",
    "* mass flux\n",
    "* momentum flux\n",
    "* energy flux\n",
    "\n",
    "であり、これらが不連続面の両側で保存されることを意味している。電磁流体（MHD）において、これは\n",
    "\n",
    "$$\n",
    "[\\rho u]^2_1=0\n",
    "$$\n",
    "\n",
    "$$\n",
    "[\\rho {u_x}^2 + P+\\frac{1}{2\\mu_0}B^2]^2_1=0\n",
    "$$\n",
    "\n",
    "$$\n",
    "[\\rho u_x u_t-\\frac{1}{\\mu_0}B_x B_t]^2_1 = 0\n",
    "$$\n",
    "\n",
    "$$\n",
    "[\\frac{1}{2}u^2+\\frac{\\gamma}{\\gamma-1}\\frac{P}{\\rho}]^2_1=0\n",
    "$$\n",
    "\n",
    "但しここで座標系はde Hoffmann-Teller frame（流体速度$\\parallel$磁場）を仮定することから、電場はゼロとなることでenergy fluxの保存式におけるPoynting flux項は考慮していない。\n",
    "\n",
    "また誘導方程式と磁力線凍結（$\\vec{E}+\\vec{u}\\times\\vec{B}=0$）より\n",
    "\n",
    "$$\n",
    "[u_x B_t - u_t B_x]^2_1 = 0\n",
    "$$\n",
    "\n",
    "も成り立つ（ここで$x,\\ t$成分は不連続面の法線方向、接線方向を示すとする）。\n",
    "\n",
    "以上の関係式を用いると、衝撃波の上下流（$n=1, 2$）の流体速度の法線成分をnormal Alfven velocityで規格化した\n",
    "\n",
    "$$\n",
    "A_{xn} = \\frac{u_{xn}}{\\frac{B_x}{\\sqrt{\\mu_0 \\rho_n}}}, \n",
    "$$\n",
    "\n",
    "は以下の関係式を満たす（Hau and Sonnerup, JGR 1989より）。\n",
    "\n",
    "$$\n",
    "{A_{x1}}^2=\\left[{A_{x2}}^2\\left( \\frac{\\gamma-1}{\\gamma}\\left( \\frac{\\gamma+1}{\\gamma-1}-\\tan^2\\theta\\right)\\left({A_{x2}}^2-1\\right)^2 + \\tan^2\\theta\\left(\\frac{\\gamma-1}{\\gamma}{A_{x2}}^2-1\\right)\\left({A_{x2}}^2-2\\right) \\right)-\\frac{\\beta}{\\cos^2\\theta}\\left({A_{x2}}^2-1\\right)^2\\right]\\\\\n",
    "/\\left[\\frac{\\gamma-1}{\\gamma}\\frac{{({A_{x2}}^2-1)}^2}{\\cos^2\\theta}-{A_{x2}}^2\\tan^2\\theta\\left(\\frac{\\gamma-1}{\\gamma}{A_{x2}}^2-1\\right)\\right]\n",
    "$$\n",
    "\n",
    "$A_{xn}$の値を用いることで、プラズマ密度や磁場、圧力の上下流の関係は以下のように求まる。\n",
    "$$\n",
    "\\frac{\\rho_2}{\\rho_1}=\\frac{{A_{x1}}^2}{{A_{x2}}^2}\n",
    "$$\n",
    "\n",
    "$$\n",
    "\\frac{B_{t2}}{B_{t1}}=\\frac{\\tan\\theta_2}{\\tan\\theta}=\\frac{{A_{x1}}^2-1}{{A_{x2}}^2-1}\n",
    "$$\n",
    "\n",
    "$$\n",
    "{A_{x2}}^2+\\frac{\\beta_2 + 1}{2\\cos^2\\theta_2}={A_{x1}}^2+\\frac{\\beta + 1}{2\\cos^2\\theta}\n",
    "$$\n",
    "\n",
    "このように、衝撃波上下流の物理量の関係は上流のプラズマβと衝撃波角$\\theta$（磁場と衝撃波法線方向の成す角度）をパラメータとして求めることができる。以下のプログラム（RHbase.py）では、MHDphaseクラスにおいて$(\\beta, \\theta)$を初期値として作成したインスタンスから、MHDの各モード（fast, slow, intermediate）の位相速度や衝撃波圧縮率などが求められる。"
   ]
  },
  {
   "cell_type": "code",
   "execution_count": 1,
   "metadata": {},
   "outputs": [],
   "source": [
    "import sys\n",
    "import numpy as np\n",
    "\n",
    "class MHD_RH:\n",
    "    def __init__(self, beta, theta, xacc=1.e-6):\n",
    "        # beta and theta : upstream quantities\n",
    "        # squared mf: fast MS, ms: slow MS, mi: another branch of Alfven velocity\n",
    "        # normalized by the upstream normal Alfven velocity \n",
    "        self.beta = beta\n",
    "        self.theta = theta\n",
    "        self.mf = self.rhsol(1.0+xacc, 1.e+10)\n",
    "        self.ms = self.rhsol(0.0, 1.0-xacc)\n",
    "        self.mi = self.rhsol(0.0, 1.0, alf_mode=True)\n",
    "        self.mcd, self.mcu = self.critical_Alfven()\n",
    "\n",
    "    def ax1(self, ax2, gamma=5./3.):\n",
    "        # determine the square of the upstream Alfven Mach number from that in the downstream\n",
    "        beta = self.beta\n",
    "        theta = self.theta\n",
    "        deg2rad = np.pi/180.\n",
    "        tanth2 = np.tan(theta*deg2rad)**2\n",
    "        costh2 = np.cos(theta*deg2rad)**2\n",
    "\n",
    "        x1 = ax2*( (gamma-1.)/gamma * ( (gamma+1.)/(gamma-1.) - tanth2 ) * \\\n",
    "                       (ax2-1.)**2 + tanth2*( (gamma-1.)/gamma*ax2 - 1. ) * \\\n",
    "                       ( ax2-2.) ) - beta/costh2*(ax2-1.)**2\n",
    "        x2 = (gamma-1.)/gamma * (ax2-1.)**2/costh2 - ax2*tanth2*( (gamma-1.)/gamma*ax2 - 1. )\n",
    "\n",
    "        return x1/x2\n",
    "\n",
    "    def rhsol(self, x1, x2, alf_mode=False, xacc=1.e-6, iteration=1000):\n",
    "        beta = self.beta\n",
    "        theta = self.theta\n",
    "        for j in range(iteration):\n",
    "            if(alf_mode):\n",
    "                x1ref = x2ref = 1.0\n",
    "            else:\n",
    "                x1ref = x1\n",
    "                x2ref = x2\n",
    "            f2 = self.ax1(x2) - x2ref\n",
    "            f1 = self.ax1(x1) - x1ref\n",
    "            if f1*f2 > 0:\n",
    "                print('root must be bracketed in bisection')\n",
    "                break\n",
    "            xmid = 0.5 * (x2 + x1)\n",
    "            if(alf_mode):\n",
    "                xref = 1.0\n",
    "            else:\n",
    "                xref = xmid\n",
    "            fmid = self.ax1(xmid) - xref\n",
    "            if f1*fmid > 0.0:\n",
    "                x1 = xmid\n",
    "            else:\n",
    "                x2 = xmid\n",
    "            if np.absolute(fmid) < xacc:\n",
    "                return np.sqrt(xmid)\n",
    "        print('lack of iteration')\n",
    "\n",
    "    def critical_Alfven(self, step = 1.e-5):\n",
    "        # determine the critical Alfven Mach number\n",
    "        # Ma_down > xmax: weak intermediate shock\n",
    "        # Ma_down < xmax: strong intermediate shock\n",
    "        # ymax: critical Alfven Mach number of upstream flow\n",
    "        ymax = -1.e+10\n",
    "        x = (self.ms)**2\n",
    "        while x < 1.0:\n",
    "            y = self.ax1(x)\n",
    "            if y > ymax:\n",
    "                xmax = x\n",
    "                ymax = y\n",
    "            x = x + step\n",
    "        return np.sqrt(xmax), np.sqrt(ymax)\n",
    "\n",
    "    def solsearch(self, xdown, mode):\n",
    "        # mode 1: fast shock 2: slow shock 3: IS\n",
    "        ax2 = xdown**2\n",
    "        deg2rad = np.pi/180.\n",
    "        while(True):\n",
    "            if mode == 1:\n",
    "                if ax2 > self.mf:\n",
    "                    break\n",
    "            elif mode == 2:\n",
    "                if self.ms < ax2 < self.mi:\n",
    "                    break\n",
    "            else:\n",
    "                if self.mi < ax2 < 1.0:\n",
    "                    break\n",
    "            print('value is not suitable for RH')\n",
    "            sys.exit()\n",
    "\n",
    "        ax1 = self.ax1(ax2)\n",
    "        self.ratio = ax1/ax2\n",
    "        self.thetad = np.rad2deg( np.arctan( (ax1-1.)/(ax2-1.)*np.tan(self.theta*deg2rad) ) )\n",
    "        self.bd = np.cos(self.theta*deg2rad)/np.cos(self.thetad*deg2rad)\n",
    "        self.bt = self.bd * np.sin(self.thetad*deg2rad)\n",
    "        self.uin = (1.-1./self.ratio)*np.sqrt(ax1)*np.cos(self.theta*deg2rad)\n",
    "        self.vshock = np.sqrt(ax2/self.ratio)*np.cos(self.theta*deg2rad)\n",
    "#        print('compressional ratio    : ' + str(self.ratio) )\n",
    "#        print('downstream field angle : ' + str(self.thetad) )\n",
    "#        print('downstream field mag.  : ' + str(self.bd) )\n",
    "#        print('injection velocity     : ' + str(self.uin) )\n",
    "#        print('shock velocity         : ' + str(self.vshock) )"
   ]
  },
  {
   "cell_type": "markdown",
   "metadata": {},
   "source": [
    "python起動後に\n",
    "\n",
    "`from RHbase import *`\n",
    "\n",
    "としてから*obj* = MHD_RH(*beta*, *theta*)とインスタンスを作成する。\n",
    "\n",
    "次の例では$\\beta=0.1,\\ \\theta=60^\\circ$の場合について計算する。"
   ]
  },
  {
   "cell_type": "code",
   "execution_count": 2,
   "metadata": {},
   "outputs": [],
   "source": [
    "from RHbase import *\n",
    "va = MHD_RH(0.1, 60.)"
   ]
  },
  {
   "cell_type": "markdown",
   "metadata": {},
   "source": [
    "$A_{x1}=A_{x2}$となる解がMHDにおける位相速度（fast/slow）に該当し、それぞれ`va.mf, va.ms`で参照できる。"
   ]
  },
  {
   "cell_type": "code",
   "execution_count": 3,
   "metadata": {},
   "outputs": [
    {
     "name": "stdout",
     "output_type": "stream",
     "text": [
      "2.06276366594 0.279891940544\n"
     ]
    }
   ],
   "source": [
    "print(va.mf, va.ms)"
   ]
  },
  {
   "cell_type": "code",
   "execution_count": 4,
   "metadata": {},
   "outputs": [
    {
     "data": {
      "text/plain": [
       "Text(0,0.5,'${A_{x1}}^2$')"
      ]
     },
     "execution_count": 4,
     "metadata": {},
     "output_type": "execute_result"
    },
    {
     "data": {
      "image/png": "[encoded data removed]",
      "text/plain": [
       "<Figure size 432x288 with 1 Axes>"
      ]
     },
     "metadata": {},
     "output_type": "display_data"
    }
   ],
   "source": [
    "ax2 = np.arange(100)*0.2\n",
    "ax1 = va.ax1(ax2)\n",
    "%matplotlib inline\n",
    "\n",
    "plt.plot(ax2, ax1)\n",
    "plt.plot(ax2, ax2, linestyle='dashed')\n",
    "plt.plot([0,8],[1,1],linestyle='dotted')\n",
    "plt.xlim(0,8)\n",
    "plt.ylim(0,8)\n",
    "plt.xlabel('${A_{x2}}^2$')\n",
    "plt.ylabel('${A_{x1}}^2$')"
   ]
  },
  {
   "cell_type": "markdown",
   "metadata": {},
   "source": [
    "上の図は衝撃波上流で$\\beta=0.1, \\theta=60^\\circ$の場合の上下流のnormal Alfven Mach numberの関係を示している。$({A_{x,2}}^2 = {A_{x,1}}^2)$との交点が小さい方からslow mode, intermediate mode, fast modeの解に該当する。"
   ]
  },
  {
   "cell_type": "code",
   "execution_count": 5,
   "metadata": {},
   "outputs": [],
   "source": [
    "va.solsearch(6.0, 1)"
   ]
  },
  {
   "cell_type": "markdown",
   "metadata": {},
   "source": [
    "solsearchの引数は($A_{x,2}$, mode)で、mode=1がfast mode"
   ]
  },
  {
   "cell_type": "code",
   "execution_count": null,
   "metadata": {},
   "outputs": [],
   "source": []
  }
 ],
 "metadata": {
  "kernelspec": {
   "display_name": "Python 3",
   "language": "python",
   "name": "python3"
  },
  "language_info": {
   "codemirror_mode": {
    "name": "ipython",
    "version": 3
   },
   "file_extension": ".py",
   "mimetype": "text/x-python",
   "name": "python",
   "nbconvert_exporter": "python",
   "pygments_lexer": "ipython3",
   "version": "3.5.5"
  }
 },
 "nbformat": 4,
 "nbformat_minor": 2
}
